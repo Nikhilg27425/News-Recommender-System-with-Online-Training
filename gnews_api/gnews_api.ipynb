{
 "cells": [
  {
   "cell_type": "code",
   "execution_count": 2,
   "id": "2f8b9a3d",
   "metadata": {},
   "outputs": [
    {
     "name": "stdout",
     "output_type": "stream",
     "text": [
      "Title: Springboks, Handre Pollard Defeat Wallabies, Watch Full Replay Free\n",
      "Description: Watch the Springboks full replay free, highlights, or recap the game between the Bokke and Wallabies from their second leg of their TRC tie in Cape Town.\n",
      "Title: Kansas State vs. Iowa State score: Live game updates, college football scores, NCAA top 25 highlights\n",
      "Description: Live updates, highlights and analysis as the Wildcats and Cyclones battle in Ireland to kick off the 2025 season\n",
      "Title: Inside Eberechi Eze to Arsenal: Last-minute phone call with Arteta, Tim Lewis’ role, Josh Kroenke’s sign-off\n",
      "Description: Arsenal beat rivals Spurs to land the Palace playmaker. Here's how the deal was done\n",
      "Title: 2025 NFL preseason: Saturday Aug. 23 schedule, how to watch\n",
      "Description: ESPN Unlimited features five prime NFL matchups on August 23. Check out the full game schedule, how-to-watch information and streaming details now.\n",
      "Title: Eagles-Jets snap counts: Mac McWilliams on the fast track?\n",
      "Description: Playing time tracker.\n",
      "Title: Alexander Zverev reveals how he'll feel if he has to play both Carlos Alcaraz and Jannik Sinner at the US Open\n",
      "Description: Alexander Zverev is ready to for the challenge of possibly facing both Jannik Sinner and Carlos Alcaraz at the US Open\n",
      "Title: 3 things to watch\n",
      "Description: The Buffalo Bills face the Tampa Bay Buccaneers Saturday night in the final preseason game for both clubs. Here are three things to watch for.\n",
      "Title: Micah Parsons eats pregame nachos, rests on medical table as Cowboys contract drama takes wild turn\n",
      "Description: Micah Parsons’ contract standoff with the Cowboys took a bizarre turn thanks to his antics at the team’s final preseason game.\n",
      "Title: Kligerman's Daytona 'win' is multiple levels of meaningful\n",
      "Description: Connor Zilisch is the technical winner of the race but this moment belonged to the substitute\n",
      "Title: Thomas Frank reaction - What did Tottenham Hotspur manager say after huge win at Manchester City?\n",
      "Description: Spurs made the most of a sloppy display from Man City as Thomas Frank continues his great start.\n"
     ]
    }
   ],
   "source": [
    "import json\n",
    "import urllib.request\n",
    "from dotenv import load_dotenv\n",
    "import os\n",
    "\n",
    "load_dotenv()\n",
    "apikey = os.getenv(\"GNEWS_API_KEY\")\n",
    "\n",
    "category = \"sports\"\n",
    "#The available categories are : general, world, nation, business, technology, entertainment, sports, science and health.\n",
    "\n",
    "url = f\"https://gnews.io/api/v4/top-headlines?category={category}&lang=en&country=us&max=10&apikey={apikey}\"\n",
    "\n",
    "with urllib.request.urlopen(url) as response:\n",
    "    data = json.loads(response.read().decode(\"utf-8\"))\n",
    "    articles = data[\"articles\"]\n",
    "\n",
    "    for i in range(len(articles)):\n",
    "        print(f\"Title: {articles[i]['title']}\")\n",
    "        print(f\"Description: {articles[i]['description']}\")"
   ]
  },
  {
   "cell_type": "code",
   "execution_count": null,
   "id": "e6a711a6",
   "metadata": {},
   "outputs": [],
   "source": []
  }
 ],
 "metadata": {
  "kernelspec": {
   "display_name": "venv",
   "language": "python",
   "name": "python3"
  },
  "language_info": {
   "codemirror_mode": {
    "name": "ipython",
    "version": 3
   },
   "file_extension": ".py",
   "mimetype": "text/x-python",
   "name": "python",
   "nbconvert_exporter": "python",
   "pygments_lexer": "ipython3",
   "version": "3.13.7"
  }
 },
 "nbformat": 4,
 "nbformat_minor": 5
}
